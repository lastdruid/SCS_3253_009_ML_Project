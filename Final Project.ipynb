{
 "cells": [
  {
   "cell_type": "code",
   "execution_count": 1,
   "metadata": {},
   "outputs": [
    {
     "name": "stdout",
     "output_type": "stream",
     "text": [
      "December 03, 2018 22:12:09\n"
     ]
    }
   ],
   "source": [
    "#Last run date\n",
    "import datetime\n",
    "print (datetime.datetime.now().strftime(\"%B %d, %Y %H:%M:%S\"))\n",
    "import warnings\n",
    "warnings.filterwarnings('ignore')"
   ]
  },
  {
   "cell_type": "code",
   "execution_count": 2,
   "metadata": {},
   "outputs": [],
   "source": [
    "# To plot pretty figures\n",
    "%matplotlib inline\n",
    "import matplotlib\n",
    "import matplotlib.pyplot as plt\n",
    "plt.rcParams['axes.labelsize'] = 14\n",
    "plt.rcParams['xtick.labelsize'] = 12\n",
    "plt.rcParams['ytick.labelsize'] = 12\n",
    "\n",
    "import pandas as pd\n",
    "import seaborn as sns\n",
    "import numpy as np\n",
    "import matplotlib.pyplot as plt\n",
    "import os\n",
    "\n",
    "# to make this notebook's output stable across runs\n",
    "np.random.seed(42)\n",
    "\n",
    "create_directory = False\n",
    "\n",
    "# Where to save the figures\n",
    "PROJECT_ROOT_DIR = \".\"\n",
    "IMAGES_PATH = os.path.join(PROJECT_ROOT_DIR, \"images\")\n",
    "if not(os.path.isdir(IMAGES_PATH)) and (create_directory):\n",
    "    os.makedirs(IMAGES_PATH)\n",
    "\n",
    "def save_fig(fig_id, tight_layout=True):\n",
    "    path = os.path.join(PROJECT_ROOT_DIR, \"images\", fig_id + \".png\")\n",
    "    print(\"Saving figure\", fig_id)\n",
    "    if tight_layout:\n",
    "        plt.tight_layout()\n",
    "    plt.savefig(path, format='png', dpi=300)"
   ]
  },
  {
   "cell_type": "code",
   "execution_count": 3,
   "metadata": {},
   "outputs": [
    {
     "name": "stderr",
     "output_type": "stream",
     "text": [
      "Using TensorFlow backend.\n"
     ]
    }
   ],
   "source": [
    "from keras import Sequential\n",
    "from keras.layers.normalization import BatchNormalization\n",
    "from keras.layers import Dense\n",
    "from keras.layers import Dropout\n",
    "from keras.callbacks import TensorBoard\n",
    "import tensorflow as tf\n",
    "from sklearn import preprocessing\n",
    "from sklearn.model_selection import train_test_split\n",
    "from itertools import permutations"
   ]
  },
  {
   "cell_type": "code",
   "execution_count": 4,
   "metadata": {},
   "outputs": [],
   "source": [
    "#BK Import section\n",
    "from sklearn.linear_model import LinearRegression\n",
    "from sklearn.linear_model import Ridge\n",
    "from sklearn.linear_model import SGDRegressor\n",
    "from sklearn.linear_model import Lasso\n",
    "from sklearn.linear_model import ElasticNet\n",
    "\n",
    "from sklearn.svm import SVR\n",
    "from sklearn.neighbors import KNeighborsRegressor\n",
    "from sklearn.tree import DecisionTreeRegressor\n",
    "from sklearn.ensemble import RandomForestRegressor\n",
    "\n",
    "from sklearn.metrics import mean_squared_error\n",
    "\n",
    "from sklearn.preprocessing import PolynomialFeatures\n",
    "from sklearn.preprocessing import StandardScaler\n",
    "from sklearn.preprocessing import MinMaxScaler\n",
    "from sklearn.preprocessing import OneHotEncoder\n",
    "from sklearn.impute import SimpleImputer\n",
    "from sklearn.compose import ColumnTransformer\n",
    "from sklearn.pipeline import Pipeline\n",
    "from sklearn.pipeline import FeatureUnion\n",
    "\n",
    "\n",
    "from sklearn.base import BaseEstimator, TransformerMixin\n",
    "from scipy.stats import expon, reciprocal, uniform\n",
    "from sklearn.model_selection import GridSearchCV\n",
    "from sklearn.model_selection import RandomizedSearchCV\n",
    "from sklearn.model_selection import train_test_split"
   ]
  },
  {
   "cell_type": "code",
   "execution_count": 5,
   "metadata": {},
   "outputs": [],
   "source": [
    "df_train = pd.read_csv('datasets/train.csv')\n",
    "df_test = pd.read_csv('datasets/train.csv')"
   ]
  },
  {
   "cell_type": "code",
   "execution_count": 6,
   "metadata": {},
   "outputs": [
    {
     "data": {
      "text/plain": [
       "Index(['Id', 'MSSubClass', 'MSZoning', 'LotFrontage', 'LotArea', 'Street',\n",
       "       'Alley', 'LotShape', 'LandContour', 'Utilities', 'LotConfig',\n",
       "       'LandSlope', 'Neighborhood', 'Condition1', 'Condition2', 'BldgType',\n",
       "       'HouseStyle', 'OverallQual', 'OverallCond', 'YearBuilt', 'YearRemodAdd',\n",
       "       'RoofStyle', 'RoofMatl', 'Exterior1st', 'Exterior2nd', 'MasVnrType',\n",
       "       'MasVnrArea', 'ExterQual', 'ExterCond', 'Foundation', 'BsmtQual',\n",
       "       'BsmtCond', 'BsmtExposure', 'BsmtFinType1', 'BsmtFinSF1',\n",
       "       'BsmtFinType2', 'BsmtFinSF2', 'BsmtUnfSF', 'TotalBsmtSF', 'Heating',\n",
       "       'HeatingQC', 'CentralAir', 'Electrical', '1stFlrSF', '2ndFlrSF',\n",
       "       'LowQualFinSF', 'GrLivArea', 'BsmtFullBath', 'BsmtHalfBath', 'FullBath',\n",
       "       'HalfBath', 'BedroomAbvGr', 'KitchenAbvGr', 'KitchenQual',\n",
       "       'TotRmsAbvGrd', 'Functional', 'Fireplaces', 'FireplaceQu', 'GarageType',\n",
       "       'GarageYrBlt', 'GarageFinish', 'GarageCars', 'GarageArea', 'GarageQual',\n",
       "       'GarageCond', 'PavedDrive', 'WoodDeckSF', 'OpenPorchSF',\n",
       "       'EnclosedPorch', '3SsnPorch', 'ScreenPorch', 'PoolArea', 'PoolQC',\n",
       "       'Fence', 'MiscFeature', 'MiscVal', 'MoSold', 'YrSold', 'SaleType',\n",
       "       'SaleCondition', 'SalePrice'],\n",
       "      dtype='object')"
      ]
     },
     "execution_count": 6,
     "metadata": {},
     "output_type": "execute_result"
    }
   ],
   "source": [
    "df_train.columns"
   ]
  },
  {
   "cell_type": "code",
   "execution_count": 7,
   "metadata": {},
   "outputs": [
    {
     "data": {
      "text/html": [
       "<div>\n",
       "<style scoped>\n",
       "    .dataframe tbody tr th:only-of-type {\n",
       "        vertical-align: middle;\n",
       "    }\n",
       "\n",
       "    .dataframe tbody tr th {\n",
       "        vertical-align: top;\n",
       "    }\n",
       "\n",
       "    .dataframe thead th {\n",
       "        text-align: right;\n",
       "    }\n",
       "</style>\n",
       "<table border=\"1\" class=\"dataframe\">\n",
       "  <thead>\n",
       "    <tr style=\"text-align: right;\">\n",
       "      <th></th>\n",
       "      <th>Id</th>\n",
       "      <th>MSSubClass</th>\n",
       "      <th>MSZoning</th>\n",
       "      <th>LotFrontage</th>\n",
       "      <th>LotArea</th>\n",
       "      <th>Street</th>\n",
       "      <th>Alley</th>\n",
       "      <th>LotShape</th>\n",
       "      <th>LandContour</th>\n",
       "      <th>Utilities</th>\n",
       "      <th>...</th>\n",
       "      <th>PoolArea</th>\n",
       "      <th>PoolQC</th>\n",
       "      <th>Fence</th>\n",
       "      <th>MiscFeature</th>\n",
       "      <th>MiscVal</th>\n",
       "      <th>MoSold</th>\n",
       "      <th>YrSold</th>\n",
       "      <th>SaleType</th>\n",
       "      <th>SaleCondition</th>\n",
       "      <th>SalePrice</th>\n",
       "    </tr>\n",
       "  </thead>\n",
       "  <tbody>\n",
       "    <tr>\n",
       "      <th>0</th>\n",
       "      <td>1</td>\n",
       "      <td>60</td>\n",
       "      <td>RL</td>\n",
       "      <td>65.0</td>\n",
       "      <td>8450</td>\n",
       "      <td>Pave</td>\n",
       "      <td>NaN</td>\n",
       "      <td>Reg</td>\n",
       "      <td>Lvl</td>\n",
       "      <td>AllPub</td>\n",
       "      <td>...</td>\n",
       "      <td>0</td>\n",
       "      <td>NaN</td>\n",
       "      <td>NaN</td>\n",
       "      <td>NaN</td>\n",
       "      <td>0</td>\n",
       "      <td>2</td>\n",
       "      <td>2008</td>\n",
       "      <td>WD</td>\n",
       "      <td>Normal</td>\n",
       "      <td>208500</td>\n",
       "    </tr>\n",
       "    <tr>\n",
       "      <th>1</th>\n",
       "      <td>2</td>\n",
       "      <td>20</td>\n",
       "      <td>RL</td>\n",
       "      <td>80.0</td>\n",
       "      <td>9600</td>\n",
       "      <td>Pave</td>\n",
       "      <td>NaN</td>\n",
       "      <td>Reg</td>\n",
       "      <td>Lvl</td>\n",
       "      <td>AllPub</td>\n",
       "      <td>...</td>\n",
       "      <td>0</td>\n",
       "      <td>NaN</td>\n",
       "      <td>NaN</td>\n",
       "      <td>NaN</td>\n",
       "      <td>0</td>\n",
       "      <td>5</td>\n",
       "      <td>2007</td>\n",
       "      <td>WD</td>\n",
       "      <td>Normal</td>\n",
       "      <td>181500</td>\n",
       "    </tr>\n",
       "    <tr>\n",
       "      <th>2</th>\n",
       "      <td>3</td>\n",
       "      <td>60</td>\n",
       "      <td>RL</td>\n",
       "      <td>68.0</td>\n",
       "      <td>11250</td>\n",
       "      <td>Pave</td>\n",
       "      <td>NaN</td>\n",
       "      <td>IR1</td>\n",
       "      <td>Lvl</td>\n",
       "      <td>AllPub</td>\n",
       "      <td>...</td>\n",
       "      <td>0</td>\n",
       "      <td>NaN</td>\n",
       "      <td>NaN</td>\n",
       "      <td>NaN</td>\n",
       "      <td>0</td>\n",
       "      <td>9</td>\n",
       "      <td>2008</td>\n",
       "      <td>WD</td>\n",
       "      <td>Normal</td>\n",
       "      <td>223500</td>\n",
       "    </tr>\n",
       "    <tr>\n",
       "      <th>3</th>\n",
       "      <td>4</td>\n",
       "      <td>70</td>\n",
       "      <td>RL</td>\n",
       "      <td>60.0</td>\n",
       "      <td>9550</td>\n",
       "      <td>Pave</td>\n",
       "      <td>NaN</td>\n",
       "      <td>IR1</td>\n",
       "      <td>Lvl</td>\n",
       "      <td>AllPub</td>\n",
       "      <td>...</td>\n",
       "      <td>0</td>\n",
       "      <td>NaN</td>\n",
       "      <td>NaN</td>\n",
       "      <td>NaN</td>\n",
       "      <td>0</td>\n",
       "      <td>2</td>\n",
       "      <td>2006</td>\n",
       "      <td>WD</td>\n",
       "      <td>Abnorml</td>\n",
       "      <td>140000</td>\n",
       "    </tr>\n",
       "    <tr>\n",
       "      <th>4</th>\n",
       "      <td>5</td>\n",
       "      <td>60</td>\n",
       "      <td>RL</td>\n",
       "      <td>84.0</td>\n",
       "      <td>14260</td>\n",
       "      <td>Pave</td>\n",
       "      <td>NaN</td>\n",
       "      <td>IR1</td>\n",
       "      <td>Lvl</td>\n",
       "      <td>AllPub</td>\n",
       "      <td>...</td>\n",
       "      <td>0</td>\n",
       "      <td>NaN</td>\n",
       "      <td>NaN</td>\n",
       "      <td>NaN</td>\n",
       "      <td>0</td>\n",
       "      <td>12</td>\n",
       "      <td>2008</td>\n",
       "      <td>WD</td>\n",
       "      <td>Normal</td>\n",
       "      <td>250000</td>\n",
       "    </tr>\n",
       "  </tbody>\n",
       "</table>\n",
       "<p>5 rows × 81 columns</p>\n",
       "</div>"
      ],
      "text/plain": [
       "   Id  MSSubClass MSZoning  LotFrontage  LotArea Street Alley LotShape  \\\n",
       "0   1          60       RL         65.0     8450   Pave   NaN      Reg   \n",
       "1   2          20       RL         80.0     9600   Pave   NaN      Reg   \n",
       "2   3          60       RL         68.0    11250   Pave   NaN      IR1   \n",
       "3   4          70       RL         60.0     9550   Pave   NaN      IR1   \n",
       "4   5          60       RL         84.0    14260   Pave   NaN      IR1   \n",
       "\n",
       "  LandContour Utilities    ...     PoolArea PoolQC Fence MiscFeature MiscVal  \\\n",
       "0         Lvl    AllPub    ...            0    NaN   NaN         NaN       0   \n",
       "1         Lvl    AllPub    ...            0    NaN   NaN         NaN       0   \n",
       "2         Lvl    AllPub    ...            0    NaN   NaN         NaN       0   \n",
       "3         Lvl    AllPub    ...            0    NaN   NaN         NaN       0   \n",
       "4         Lvl    AllPub    ...            0    NaN   NaN         NaN       0   \n",
       "\n",
       "  MoSold YrSold  SaleType  SaleCondition  SalePrice  \n",
       "0      2   2008        WD         Normal     208500  \n",
       "1      5   2007        WD         Normal     181500  \n",
       "2      9   2008        WD         Normal     223500  \n",
       "3      2   2006        WD        Abnorml     140000  \n",
       "4     12   2008        WD         Normal     250000  \n",
       "\n",
       "[5 rows x 81 columns]"
      ]
     },
     "execution_count": 7,
     "metadata": {},
     "output_type": "execute_result"
    }
   ],
   "source": [
    "df_train.head()"
   ]
  },
  {
   "cell_type": "markdown",
   "metadata": {},
   "source": [
    "Correlation between columns"
   ]
  },
  {
   "cell_type": "code",
   "execution_count": 8,
   "metadata": {},
   "outputs": [
    {
     "data": {
      "text/plain": [
       "<matplotlib.axes._subplots.AxesSubplot at 0x1a1ce248588>"
      ]
     },
     "execution_count": 8,
     "metadata": {},
     "output_type": "execute_result"
    },
    {
     "data": {
      "image/png": "[encoded data removed]",
      "text/plain": [
       "<Figure size 720x720 with 2 Axes>"
      ]
     },
     "metadata": {
      "needs_background": "light"
     },
     "output_type": "display_data"
    }
   ],
   "source": [
    "corrmat = df_train.corr()\n",
    "f, ax = plt.subplots(figsize=(10,10))\n",
    "sns.heatmap(corrmat, square=True)"
   ]
  },
  {
   "cell_type": "markdown",
   "metadata": {},
   "source": [
    "Distribution of sale prices"
   ]
  },
  {
   "cell_type": "code",
   "execution_count": 9,
   "metadata": {},
   "outputs": [
    {
     "data": {
      "text/plain": [
       "<matplotlib.axes._subplots.AxesSubplot at 0x1a1ce833588>"
      ]
     },
     "execution_count": 9,
     "metadata": {},
     "output_type": "execute_result"
    },
    {
     "data": {
      "image/png": "[encoded data removed]",
      "text/plain": [
       "<Figure size 432x288 with 1 Axes>"
      ]
     },
     "metadata": {
      "needs_background": "light"
     },
     "output_type": "display_data"
    }
   ],
   "source": [
    "sns.distplot(df_train['SalePrice'])"
   ]
  },
  {
   "cell_type": "markdown",
   "metadata": {},
   "source": [
    "sale price / year built chart"
   ]
  },
  {
   "cell_type": "code",
   "execution_count": 10,
   "metadata": {},
   "outputs": [
    {
     "data": {
      "image/png": "[encoded data removed]",
      "text/plain": [
       "<Figure size 432x288 with 1 Axes>"
      ]
     },
     "metadata": {
      "needs_background": "light"
     },
     "output_type": "display_data"
    }
   ],
   "source": [
    "data = pd.concat([df_train['SalePrice'], df_train['YearBuilt']], axis=1)\n",
    "p = data.plot.scatter(x='SalePrice', y='YearBuilt', xlim=(0,650000))"
   ]
  },
  {
   "cell_type": "code",
   "execution_count": 11,
   "metadata": {},
   "outputs": [
    {
     "data": {
      "image/png": "[encoded data removed]",
      "text/plain": [
       "<Figure size 432x288 with 1 Axes>"
      ]
     },
     "metadata": {
      "needs_background": "light"
     },
     "output_type": "display_data"
    }
   ],
   "source": [
    "data = pd.concat([df_train['SalePrice'], df_train['OverallQual']], axis=1)\n",
    "p = data.plot.scatter(x='SalePrice', y='OverallQual', xlim=(0,650000))"
   ]
  },
  {
   "cell_type": "code",
   "execution_count": 12,
   "metadata": {},
   "outputs": [
    {
     "data": {
      "text/plain": [
       "count      1460.000000\n",
       "mean     180921.195890\n",
       "std       79442.502883\n",
       "min       34900.000000\n",
       "25%      129975.000000\n",
       "50%      163000.000000\n",
       "75%      214000.000000\n",
       "max      755000.000000\n",
       "Name: SalePrice, dtype: float64"
      ]
     },
     "execution_count": 12,
     "metadata": {},
     "output_type": "execute_result"
    }
   ],
   "source": [
    "df_train['SalePrice'].describe()"
   ]
  },
  {
   "cell_type": "code",
   "execution_count": 13,
   "metadata": {},
   "outputs": [],
   "source": [
    "# New features\n",
    "# The added features improved RMSE by 0.4% only\n",
    "def PrepData (df):\n",
    "    \n",
    "    df['Years_after_Renov']=df['YrSold']-df['YearRemodAdd']\n",
    "    df['Liv_area_over_LotArea']=df['GrLivArea']/df['LotArea']\n",
    "    df['BedroomAbvGr'].replace(0, 1, inplace=True)\n",
    "    df['Area_per_bedroom']=df['GrLivArea']/df['BedroomAbvGr']\n",
    "    df['Qual_over_Cond']=df['OverallQual']/df['OverallCond']\n",
    "    return df"
   ]
  },
  {
   "cell_type": "code",
   "execution_count": 14,
   "metadata": {},
   "outputs": [],
   "source": [
    "# Data preparation\n",
    "\n",
    "# remove outliers\n",
    "df_train = df_train.drop(df_train[(df_train['GrLivArea']>4000) & (df_train['SalePrice']<300000)].index)\n",
    "\n",
    "sale_price=df_train.pop('SalePrice')\n",
    "df_train.drop(['Id'], inplace=True, axis=1)\n",
    "df_te_ID = df_test.drop(['Id'], inplace=True, axis=1)\n",
    "\n",
    "df_train=PrepData(df_train)\n",
    "df_test=PrepData(df_test)\n",
    "\n",
    "numerical_features_indices = np.where(df_train.dtypes != np.object)[0]\n",
    "categorical_features_indices = np.where(df_train.dtypes == np.object)[0]"
   ]
  },
  {
   "cell_type": "code",
   "execution_count": 15,
   "metadata": {},
   "outputs": [
    {
     "name": "stdout",
     "output_type": "stream",
     "text": [
      "(1458, 291)\n",
      "(1460, 291)\n"
     ]
    }
   ],
   "source": [
    "num_pipeline = Pipeline([\n",
    "        ('imputer', SimpleImputer(strategy='median')),\n",
    "        ('std_scaler', MinMaxScaler()),\n",
    "    ])\n",
    "\n",
    "cat_pipeline = Pipeline([\n",
    "        ('cat_imputer', SimpleImputer(strategy='most_frequent')), \n",
    "        ('cat_Encoder', OneHotEncoder(handle_unknown='ignore')), \n",
    "    ])\n",
    "\n",
    "full_pipeline = ColumnTransformer([\n",
    "        ('num', num_pipeline, numerical_features_indices),\n",
    "        ('cat', cat_pipeline, categorical_features_indices),\n",
    "    ])\n",
    "\n",
    "df_prep = full_pipeline.fit_transform(df_train)\n",
    "print(df_prep.shape)\n",
    "\n",
    "df_test = full_pipeline.transform(df_test)\n",
    "print(df_test.shape)"
   ]
  },
  {
   "cell_type": "code",
   "execution_count": 16,
   "metadata": {},
   "outputs": [],
   "source": [
    "train_X, val_X, train_y, val_y = train_test_split(df_prep, sale_price, random_state = 42, test_size=0.2)"
   ]
  },
  {
   "cell_type": "markdown",
   "metadata": {},
   "source": [
    "# Baseline estimators"
   ]
  },
  {
   "cell_type": "code",
   "execution_count": 17,
   "metadata": {},
   "outputs": [],
   "source": [
    "# Compare different models with the same input data\n",
    "names = [\"Linear Regression\", \"SVR\",\"Ridge\",\"Lasso\",\"ElasticNet\",\"SGDRegressor\",\"KNeighbors Regressor\",\n",
    "         \"Decision Tree Regressor\", \"Random Forest Regressor\"]\n",
    "\n",
    "baseline_regressors = [\n",
    "    LinearRegression(), \n",
    "    SVR(kernel=\"linear\"),\n",
    "    Ridge(random_state=42),\n",
    "    Lasso(random_state=42),\n",
    "    ElasticNet(random_state=42),\n",
    "    SGDRegressor(random_state=42),\n",
    "    KNeighborsRegressor(),\n",
    "    DecisionTreeRegressor(random_state=42),\n",
    "    RandomForestRegressor(random_state=42)\n",
    "]\n",
    "\n",
    "# Create a dictionary for the regressor mapped to the rmse of baseline regressor\n",
    "base_rmse = {}\n",
    "# dict to store final models\n",
    "final_models = {}\n",
    "\n",
    "tuned_regressors = [\n",
    "    LinearRegression(), \n",
    "    SVR(kernel=\"linear\"),\n",
    "    Ridge(random_state=42),\n",
    "    Lasso(random_state=42),\n",
    "    ElasticNet(random_state=42),\n",
    "    SGDRegressor(random_state=42),\n",
    "    KNeighborsRegressor(),\n",
    "    DecisionTreeRegressor(random_state=42),\n",
    "    RandomForestRegressor(random_state=42)\n",
    "]"
   ]
  },
  {
   "cell_type": "code",
   "execution_count": 18,
   "metadata": {},
   "outputs": [],
   "source": [
    "def print_regressor_RMSE(X_tr, X_ts, y_tr, y_ts,regressors):\n",
    "    for name, rgs in zip(names, regressors):\n",
    "        rgs.fit(X_tr, y_tr)\n",
    "        y_pred =rgs.predict(X_ts)\n",
    "        rmse = np.sqrt(mean_squared_error(np.log(y_ts), np.log(y_pred))) \n",
    "        base_rmse[name] = rmse\n",
    "        print('RMSE for {0} model is {1}'.format(name,  rmse))"
   ]
  },
  {
   "cell_type": "code",
   "execution_count": 19,
   "metadata": {},
   "outputs": [
    {
     "name": "stdout",
     "output_type": "stream",
     "text": [
      "RMSE for Linear Regression model is 0.26639529827352754\n",
      "RMSE for SVR model is 0.40208104657058086\n",
      "RMSE for Ridge model is 0.1458576461940676\n"
     ]
    },
    {
     "name": "stderr",
     "output_type": "stream",
     "text": [
      "C:\\Users\\Rob\\Anaconda3\\envs\\tf_gpu\\lib\\site-packages\\sklearn\\linear_model\\coordinate_descent.py:491: ConvergenceWarning: Objective did not converge. You might want to increase the number of iterations. Fitting data with very small alpha may cause precision problems.\n",
      "  ConvergenceWarning)\n"
     ]
    },
    {
     "name": "stdout",
     "output_type": "stream",
     "text": [
      "RMSE for Lasso model is 0.2584453809570658\n",
      "RMSE for ElasticNet model is 0.2290609220450218\n",
      "RMSE for SGDRegressor model is 0.16523338058558712\n",
      "RMSE for KNeighbors Regressor model is 0.21635090793524026\n",
      "RMSE for Decision Tree Regressor model is 0.20934907888211285\n",
      "RMSE for Random Forest Regressor model is 0.15266543301399424\n",
      "Wall time: 3.24 s\n"
     ]
    }
   ],
   "source": [
    "%%time\n",
    "print_regressor_RMSE(train_X, val_X, train_y, val_y,baseline_regressors)"
   ]
  },
  {
   "cell_type": "code",
   "execution_count": 20,
   "metadata": {},
   "outputs": [],
   "source": [
    "#The best three model with default parameters are  Lasso (28,166), Linear (29,511) and Ridge (30,081)."
   ]
  },
  {
   "cell_type": "markdown",
   "metadata": {},
   "source": [
    "# Weak learning methods - tuned to new features (Boris)"
   ]
  },
  {
   "cell_type": "code",
   "execution_count": 21,
   "metadata": {},
   "outputs": [
    {
     "name": "stdout",
     "output_type": "stream",
     "text": [
      "Fitting 3 folds for each of 8 candidates, totalling 24 fits\n"
     ]
    },
    {
     "name": "stderr",
     "output_type": "stream",
     "text": [
      "[Parallel(n_jobs=2)]: Using backend LokyBackend with 2 concurrent workers.\n",
      "[Parallel(n_jobs=2)]: Done  14 tasks      | elapsed:    1.7s\n"
     ]
    },
    {
     "name": "stdout",
     "output_type": "stream",
     "text": [
      "Wall time: 2.55 s\n"
     ]
    },
    {
     "name": "stderr",
     "output_type": "stream",
     "text": [
      "[Parallel(n_jobs=2)]: Done  24 out of  24 | elapsed:    2.3s finished\n",
      "C:\\Users\\Rob\\Anaconda3\\envs\\tf_gpu\\lib\\site-packages\\sklearn\\model_selection\\_search.py:841: DeprecationWarning: The default of the `iid` parameter will change from True to False in version 0.22 and will be removed in 0.24. This will change numeric results when test-set sizes are unequal.\n",
      "  DeprecationWarning)\n"
     ]
    }
   ],
   "source": [
    "%%time\n",
    "#Hyper parameters optimization - Linear Regression\n",
    "\n",
    "param_grid = {\n",
    "    'fit_intercept': [True, False],\n",
    "    'normalize': [True, False],\n",
    "    'copy_X':[True, False],\n",
    "}\n",
    "\n",
    "grid_search = GridSearchCV(LinearRegression(), param_grid, cv=3,scoring='neg_mean_squared_error',verbose=5,n_jobs=2)\n",
    "grid_search.fit(train_X, train_y)"
   ]
  },
  {
   "cell_type": "code",
   "execution_count": 22,
   "metadata": {},
   "outputs": [
    {
     "name": "stdout",
     "output_type": "stream",
     "text": [
      "The best parameters for Linear Regression model are:\n",
      "{'copy_X': True, 'fit_intercept': False, 'normalize': True}\n",
      "\n",
      "The RMSE for Linear Regression model is: 25950.527363090623\n",
      "The overall improvement with tuned hyper parameters is 0.06%\n"
     ]
    }
   ],
   "source": [
    "print('The best parameters for Linear Regression model are:\\n{0}\\n'.format(grid_search.best_params_))\n",
    "final_model=grid_search.best_estimator_\n",
    "y_pred = final_model.predict(val_X)\n",
    "rmse= np.sqrt(mean_squared_error(val_y, y_pred))\n",
    "print('The RMSE for Linear Regression model is: {0}'.format(rmse))\n",
    "print('The overall improvement with tuned hyper parameters is {0:.2%}'.format((25966.8028-rmse)/25966.8028))\n"
   ]
  },
  {
   "cell_type": "code",
   "execution_count": 23,
   "metadata": {},
   "outputs": [],
   "source": [
    "# %%time\n",
    "# #Hyper parameters optimization - SVR\n",
    "# param_distribs = {\n",
    "#         'kernel': ['linear', 'rbf'],\n",
    "#         'C': reciprocal(20, 200000),\n",
    "#         'gamma': expon(scale=1.0),\n",
    "#     }\n",
    "# rnd_search = RandomizedSearchCV(SVR(), param_distributions=param_distribs, n_iter=50, cv=5, \n",
    "#                                  scoring='neg_mean_squared_error', verbose=5, n_jobs=2, random_state=42)\n",
    "# rnd_search.fit(train_X, train_y)"
   ]
  },
  {
   "cell_type": "code",
   "execution_count": 24,
   "metadata": {},
   "outputs": [],
   "source": [
    "# print('The best parameters for SVR  model are:\\n{0}\\n'.format(rnd_search.best_params_))\n",
    "# final_model=rnd_search.best_estimator_\n",
    "# y_pred = final_model.predict(val_X)\n",
    "# rmse= np.sqrt(mean_squared_error(val_y, y_pred))\n",
    "# print('The RMSE for SVR model is: {0}'.format(rmse))\n",
    "# print('The overall improvement with tuned hyper parameters is {0:.2%}'.format((75195.4241-rmse)/75195.4241))"
   ]
  },
  {
   "cell_type": "code",
   "execution_count": 25,
   "metadata": {},
   "outputs": [
    {
     "name": "stdout",
     "output_type": "stream",
     "text": [
      "Fitting 3 folds for each of 200 candidates, totalling 600 fits\n"
     ]
    },
    {
     "name": "stderr",
     "output_type": "stream",
     "text": [
      "[Parallel(n_jobs=-1)]: Using backend LokyBackend with 4 concurrent workers.\n",
      "[Parallel(n_jobs=-1)]: Done  10 tasks      | elapsed:    1.7s\n",
      "[Parallel(n_jobs=-1)]: Done  64 tasks      | elapsed:    5.7s\n",
      "[Parallel(n_jobs=-1)]: Done 154 tasks      | elapsed:   11.4s\n",
      "[Parallel(n_jobs=-1)]: Done 381 tasks      | elapsed:   19.5s\n"
     ]
    },
    {
     "name": "stdout",
     "output_type": "stream",
     "text": [
      "Wall time: 22.7 s\n"
     ]
    },
    {
     "name": "stderr",
     "output_type": "stream",
     "text": [
      "[Parallel(n_jobs=-1)]: Done 600 out of 600 | elapsed:   22.4s finished\n",
      "C:\\Users\\Rob\\Anaconda3\\envs\\tf_gpu\\lib\\site-packages\\sklearn\\model_selection\\_search.py:841: DeprecationWarning: The default of the `iid` parameter will change from True to False in version 0.22 and will be removed in 0.24. This will change numeric results when test-set sizes are unequal.\n",
      "  DeprecationWarning)\n"
     ]
    }
   ],
   "source": [
    "%%time\n",
    "#Hyper parameters optimization - Ridge \n",
    "param_grid = {\n",
    "    'alpha': [1e-2,1e-1,1e0,1e1,1e2],\n",
    "    'fit_intercept': [True, False],\n",
    "    'normalize': [True, False],\n",
    "    'copy_X':[True, False],\n",
    "    'solver': ['cholesky', 'lsqr', 'sparse_cg', 'sag', 'saga'],\n",
    "}\n",
    "\n",
    "grid_search = GridSearchCV(Ridge(random_state=42), param_grid, cv=3,scoring='neg_mean_squared_error',verbose=5, n_jobs=-1)\n",
    "grid_search.fit(train_X, train_y)"
   ]
  },
  {
   "cell_type": "code",
   "execution_count": 26,
   "metadata": {},
   "outputs": [
    {
     "name": "stdout",
     "output_type": "stream",
     "text": [
      "The best parameters for Ridge model are:\n",
      "{'alpha': 1.0, 'copy_X': True, 'fit_intercept': False, 'normalize': True, 'solver': 'sag'}\n",
      "\n",
      "The RMSE for Ridge model is: 23842.41608057537\n",
      "The overall improvement with tuned hyper parameters is -0.07%\n"
     ]
    }
   ],
   "source": [
    "print('The best parameters for Ridge model are:\\n{0}\\n'.format(grid_search.best_params_))\n",
    "final_model=grid_search.best_estimator_\n",
    "y_pred = final_model.predict(val_X)\n",
    "rmse= np.sqrt(mean_squared_error(val_y, y_pred))\n",
    "print('The RMSE for Ridge model is: {0}'.format(rmse))\n",
    "print('The overall improvement with tuned hyper parameters is {0:.2%}'.format((23826.7363-rmse)/23826.7363))\n"
   ]
  },
  {
   "cell_type": "code",
   "execution_count": 27,
   "metadata": {},
   "outputs": [
    {
     "name": "stdout",
     "output_type": "stream",
     "text": [
      "Fitting 3 folds for each of 32 candidates, totalling 96 fits\n"
     ]
    },
    {
     "name": "stderr",
     "output_type": "stream",
     "text": [
      "[Parallel(n_jobs=-1)]: Using backend LokyBackend with 4 concurrent workers.\n",
      "[Parallel(n_jobs=-1)]: Done  10 tasks      | elapsed:    2.1s\n",
      "[Parallel(n_jobs=-1)]: Done  64 tasks      | elapsed:    7.7s\n",
      "[Parallel(n_jobs=-1)]: Done  89 out of  96 | elapsed:    8.5s remaining:    0.6s\n",
      "[Parallel(n_jobs=-1)]: Done  96 out of  96 | elapsed:    8.6s finished\n",
      "C:\\Users\\Rob\\Anaconda3\\envs\\tf_gpu\\lib\\site-packages\\sklearn\\model_selection\\_search.py:841: DeprecationWarning: The default of the `iid` parameter will change from True to False in version 0.22 and will be removed in 0.24. This will change numeric results when test-set sizes are unequal.\n",
      "  DeprecationWarning)\n"
     ]
    },
    {
     "name": "stdout",
     "output_type": "stream",
     "text": [
      "Wall time: 8.88 s\n"
     ]
    }
   ],
   "source": [
    "%%time\n",
    "#Hyper parameters optimization - Lasso \n",
    "param_grid = {\n",
    "    'alpha': [1, 10, 100, 1000],\n",
    "    'fit_intercept': [True, False],\n",
    "    'normalize': [True, False],\n",
    "    'copy_X':[True, False],\n",
    "}\n",
    "\n",
    "\n",
    "grid_search = GridSearchCV(Lasso(random_state=42, max_iter=1000), param_grid, cv=3,scoring='neg_mean_squared_error',verbose=5, n_jobs=-1)\n",
    "grid_search.fit(train_X, train_y)"
   ]
  },
  {
   "cell_type": "code",
   "execution_count": 28,
   "metadata": {},
   "outputs": [
    {
     "name": "stdout",
     "output_type": "stream",
     "text": [
      "The best parameters for Lasso  model are:\n",
      "{'alpha': 100, 'copy_X': True, 'fit_intercept': True, 'normalize': False}\n",
      "\n",
      "The RMSE for Lasso  model is: 22400.72333035708\n",
      "The overall improvement with tuned hyper parameters is 13.39%\n"
     ]
    }
   ],
   "source": [
    "print('The best parameters for Lasso  model are:\\n{0}\\n'.format(grid_search.best_params_))\n",
    "final_model=grid_search.best_estimator_\n",
    "y_pred = final_model.predict(val_X)\n",
    "rmse= np.sqrt(mean_squared_error(val_y, y_pred))\n",
    "print('The RMSE for Lasso  model is: {0}'.format(rmse))\n",
    "print('The overall improvement with tuned hyper parameters is {0:.2%}'.format((25864.9012-rmse)/25864.9012))"
   ]
  },
  {
   "cell_type": "markdown",
   "metadata": {},
   "source": [
    "# Weak learning methods - tuned to old features (Rob)"
   ]
  },
  {
   "cell_type": "code",
   "execution_count": 29,
   "metadata": {},
   "outputs": [],
   "source": [
    "# print the reults from the grid/random searchCV runs\n",
    "def print_scores(estimator, display_threshold=40000):\n",
    "    rbf_cvrs = estimator.cv_results_\n",
    "    for mean_score, params in zip(rbf_cvrs[\"mean_test_score\"], rbf_cvrs[\"params\"]):\n",
    "        if np.sqrt(-mean_score) < display_threshold:\n",
    "            print(np.sqrt(-mean_score), params)"
   ]
  },
  {
   "cell_type": "code",
   "execution_count": 30,
   "metadata": {},
   "outputs": [],
   "source": [
    "# evaluate using validation data\n",
    "def validate_model(model_name, estimator, original_list=names, X=val_X, y=val_y):\n",
    "    print('The best parameters for {0} model are:\\n{1}\\n'.format(model_name, grid_search.best_params_))\n",
    "    final_models[model_name]=estimator.best_estimator_\n",
    "    y_pred = final_models[model_name].predict(X)\n",
    "    rmse= np.sqrt(mean_squared_error(np.log(y), np.log(y_pred)))\n",
    "    print('The RMSE for model is: {0:.5f}'.format(rmse))\n",
    "    if model_name in original_list:\n",
    "        print('The overall improvement with tuned hyper parameters is {0:.2%}'\n",
    "              .format((base_rmse[model_name]-rmse)/base_rmse[model_name]))"
   ]
  },
  {
   "cell_type": "markdown",
   "metadata": {},
   "source": [
    "## Linear regression optimization"
   ]
  },
  {
   "cell_type": "code",
   "execution_count": 31,
   "metadata": {},
   "outputs": [
    {
     "name": "stdout",
     "output_type": "stream",
     "text": [
      "Fitting 10 folds for each of 1 candidates, totalling 10 fits\n"
     ]
    },
    {
     "name": "stderr",
     "output_type": "stream",
     "text": [
      "[Parallel(n_jobs=2)]: Using backend LokyBackend with 2 concurrent workers.\n"
     ]
    },
    {
     "name": "stdout",
     "output_type": "stream",
     "text": [
      "Wall time: 1.07 s\n"
     ]
    },
    {
     "name": "stderr",
     "output_type": "stream",
     "text": [
      "[Parallel(n_jobs=2)]: Done  10 out of  10 | elapsed:    0.7s finished\n",
      "C:\\Users\\Rob\\Anaconda3\\envs\\tf_gpu\\lib\\site-packages\\sklearn\\model_selection\\_search.py:841: DeprecationWarning: The default of the `iid` parameter will change from True to False in version 0.22 and will be removed in 0.24. This will change numeric results when test-set sizes are unequal.\n",
      "  DeprecationWarning)\n"
     ]
    }
   ],
   "source": [
    "%%time\n",
    "#Hyper parameters optimization - Linear Regression\n",
    "param_grid = {\n",
    "    'fit_intercept': [True],\n",
    "}\n",
    "\n",
    "# oddly enough it seems that the best fit is the unchanged algorthim\n",
    "\n",
    "grid_search = GridSearchCV(LinearRegression(), param_grid, cv=10,scoring='neg_mean_squared_error',verbose=1,n_jobs=2)\n",
    "grid_search.fit(train_X, train_y)"
   ]
  },
  {
   "cell_type": "code",
   "execution_count": 32,
   "metadata": {},
   "outputs": [
    {
     "name": "stdout",
     "output_type": "stream",
     "text": [
      "27901.235979577214 {'fit_intercept': True}\n"
     ]
    }
   ],
   "source": [
    "print_scores(grid_search)"
   ]
  },
  {
   "cell_type": "code",
   "execution_count": 33,
   "metadata": {},
   "outputs": [
    {
     "name": "stdout",
     "output_type": "stream",
     "text": [
      "The best parameters for Linear Regression model are:\n",
      "{'fit_intercept': True}\n",
      "\n",
      "The RMSE for model is: 0.26639\n",
      "The overall improvement with tuned hyper parameters is 0.00%\n"
     ]
    }
   ],
   "source": [
    "validate_model('Linear Regression', grid_search)"
   ]
  },
  {
   "cell_type": "markdown",
   "metadata": {},
   "source": [
    "## SVR optimization"
   ]
  },
  {
   "cell_type": "code",
   "execution_count": 34,
   "metadata": {},
   "outputs": [
    {
     "name": "stdout",
     "output_type": "stream",
     "text": [
      "Fitting 5 folds for each of 1 candidates, totalling 5 fits\n"
     ]
    },
    {
     "name": "stderr",
     "output_type": "stream",
     "text": [
      "[Parallel(n_jobs=2)]: Using backend LokyBackend with 2 concurrent workers.\n",
      "[Parallel(n_jobs=2)]: Done   5 out of   5 | elapsed:    2.3s finished\n"
     ]
    },
    {
     "name": "stdout",
     "output_type": "stream",
     "text": [
      "Wall time: 2.9 s\n"
     ]
    }
   ],
   "source": [
    "%%time\n",
    "#Hyper parameters optimization - SVR\n",
    "param_distribs = {\n",
    "    'kernel': ['rbf'],\n",
    "    'C': [113564],\n",
    "    'gamma': [0.0007790692366582295],\n",
    "}\n",
    "\n",
    "# oddly enough it seems that the best fit is the unchanged algorthim\n",
    "\n",
    "rand_search = RandomizedSearchCV(SVR(), param_distributions=param_distribs, n_iter=1, cv=5, \n",
    "                                 scoring='neg_mean_squared_error', verbose=1, n_jobs=2, random_state=42)\n",
    "rand_search.fit(train_X, train_y)"
   ]
  },
  {
   "cell_type": "code",
   "execution_count": 35,
   "metadata": {},
   "outputs": [],
   "source": [
    "print_scores(rand_search)"
   ]
  },
  {
   "cell_type": "code",
   "execution_count": 36,
   "metadata": {},
   "outputs": [
    {
     "name": "stdout",
     "output_type": "stream",
     "text": [
      "The best parameters for SVR model are:\n",
      "{'fit_intercept': True}\n",
      "\n",
      "The RMSE for model is: 0.19893\n",
      "The overall improvement with tuned hyper parameters is 50.53%\n"
     ]
    }
   ],
   "source": [
    "validate_model('SVR', rand_search)"
   ]
  },
  {
   "cell_type": "markdown",
   "metadata": {},
   "source": [
    "## Ridge regression optimization"
   ]
  },
  {
   "cell_type": "code",
   "execution_count": 37,
   "metadata": {},
   "outputs": [
    {
     "name": "stdout",
     "output_type": "stream",
     "text": [
      "Fitting 3 folds for each of 1 candidates, totalling 3 fits\n"
     ]
    },
    {
     "name": "stderr",
     "output_type": "stream",
     "text": [
      "[Parallel(n_jobs=2)]: Using backend LokyBackend with 2 concurrent workers.\n"
     ]
    },
    {
     "name": "stdout",
     "output_type": "stream",
     "text": [
      "Wall time: 338 ms\n"
     ]
    },
    {
     "name": "stderr",
     "output_type": "stream",
     "text": [
      "[Parallel(n_jobs=2)]: Done   3 out of   3 | elapsed:    0.1s finished\n"
     ]
    }
   ],
   "source": [
    "%%time\n",
    "#Hyper parameters optimization - Ridge\n",
    "param_grid = {\n",
    "    'alpha': [1.0],\n",
    "    'fit_intercept': [True],\n",
    "    #'solver': ['cholesky', 'lsqr', 'sparse_cg', 'sag', 'saga', 'auto'],\n",
    "    'solver': ['auto'],\n",
    "}\n",
    "\n",
    "# oddly enough it seems that the best fit is the unchanged algorthim\n",
    "\n",
    "grid_search = GridSearchCV(Ridge(random_state=42), param_grid, cv=3,scoring='neg_mean_squared_error',verbose=1,n_jobs=2)\n",
    "grid_search.fit(train_X, train_y)"
   ]
  },
  {
   "cell_type": "code",
   "execution_count": 38,
   "metadata": {},
   "outputs": [
    {
     "name": "stdout",
     "output_type": "stream",
     "text": [
      "26945.318801854704 {'alpha': 1.0, 'fit_intercept': True, 'solver': 'auto'}\n"
     ]
    }
   ],
   "source": [
    "print_scores(grid_search)"
   ]
  },
  {
   "cell_type": "code",
   "execution_count": 39,
   "metadata": {},
   "outputs": [
    {
     "name": "stdout",
     "output_type": "stream",
     "text": [
      "The best parameters for Ridge model are:\n",
      "{'alpha': 1.0, 'fit_intercept': True, 'solver': 'auto'}\n",
      "\n",
      "The RMSE for model is: 0.14586\n",
      "The overall improvement with tuned hyper parameters is 0.00%\n"
     ]
    }
   ],
   "source": [
    "validate_model('Ridge', grid_search)"
   ]
  },
  {
   "cell_type": "markdown",
   "metadata": {},
   "source": [
    "## Lasso regression optimization"
   ]
  },
  {
   "cell_type": "code",
   "execution_count": 90,
   "metadata": {},
   "outputs": [
    {
     "name": "stdout",
     "output_type": "stream",
     "text": [
      "Fitting 10 folds for each of 1 candidates, totalling 10 fits\n"
     ]
    },
    {
     "name": "stderr",
     "output_type": "stream",
     "text": [
      "[Parallel(n_jobs=2)]: Using backend LokyBackend with 2 concurrent workers.\n"
     ]
    },
    {
     "name": "stdout",
     "output_type": "stream",
     "text": [
      "Wall time: 722 ms\n"
     ]
    },
    {
     "name": "stderr",
     "output_type": "stream",
     "text": [
      "[Parallel(n_jobs=2)]: Done  10 out of  10 | elapsed:    0.5s finished\n",
      "C:\\Users\\Rob\\Anaconda3\\envs\\tf_gpu\\lib\\site-packages\\sklearn\\model_selection\\_search.py:841: DeprecationWarning: The default of the `iid` parameter will change from True to False in version 0.22 and will be removed in 0.24. This will change numeric results when test-set sizes are unequal.\n",
      "  DeprecationWarning)\n",
      "C:\\Users\\Rob\\Anaconda3\\envs\\tf_gpu\\lib\\site-packages\\sklearn\\linear_model\\coordinate_descent.py:491: ConvergenceWarning: Objective did not converge. You might want to increase the number of iterations. Fitting data with very small alpha may cause precision problems.\n",
      "  ConvergenceWarning)\n"
     ]
    }
   ],
   "source": [
    "%%time\n",
    "#Hyper parameters optimization - Lasso\n",
    "param_grid = {\n",
    "    'alpha': [71],\n",
    "    'max_iter': [100],\n",
    "}\n",
    "\n",
    "# oddly enough it seems that the best fit is the unchanged algorthim\n",
    "\n",
    "grid_search = GridSearchCV(Lasso(random_state=42), param_grid, cv=10,scoring='neg_mean_squared_error',verbose=1,n_jobs=2)\n",
    "grid_search.fit(train_X, train_y)"
   ]
  },
  {
   "cell_type": "code",
   "execution_count": 91,
   "metadata": {},
   "outputs": [
    {
     "name": "stdout",
     "output_type": "stream",
     "text": [
      "25057.32619231869 {'alpha': 71, 'max_iter': 100}\n"
     ]
    }
   ],
   "source": [
    "print_scores(grid_search)"
   ]
  },
  {
   "cell_type": "code",
   "execution_count": 92,
   "metadata": {
    "scrolled": true
   },
   "outputs": [
    {
     "name": "stdout",
     "output_type": "stream",
     "text": [
      "The best parameters for Lasso model are:\n",
      "{'alpha': 71, 'max_iter': 100}\n",
      "\n",
      "The RMSE for model is: 0.13809\n",
      "The overall improvement with tuned hyper parameters is 46.57%\n"
     ]
    }
   ],
   "source": [
    "validate_model('Lasso', grid_search)"
   ]
  },
  {
   "cell_type": "markdown",
   "metadata": {},
   "source": [
    "## Elastic net optimization"
   ]
  },
  {
   "cell_type": "code",
   "execution_count": 102,
   "metadata": {},
   "outputs": [
    {
     "name": "stdout",
     "output_type": "stream",
     "text": [
      "Wall time: 869 ms\n"
     ]
    },
    {
     "name": "stderr",
     "output_type": "stream",
     "text": [
      "C:\\Users\\Rob\\Anaconda3\\envs\\tf_gpu\\lib\\site-packages\\sklearn\\model_selection\\_search.py:841: DeprecationWarning: The default of the `iid` parameter will change from True to False in version 0.22 and will be removed in 0.24. This will change numeric results when test-set sizes are unequal.\n",
      "  DeprecationWarning)\n"
     ]
    }
   ],
   "source": [
    "%%time\n",
    "#Hyper parameters optimization - Elastic Net\n",
    "param_grid = {\n",
    "    'alpha': [100],\n",
    "    'l1_ratio': [1.0],\n",
    "}\n",
    "\n",
    "grid_search = GridSearchCV(ElasticNet(random_state=42), param_grid, cv=8,scoring='neg_mean_squared_error', n_jobs=2)\n",
    "grid_search.fit(train_X, train_y)"
   ]
  },
  {
   "cell_type": "code",
   "execution_count": 103,
   "metadata": {},
   "outputs": [
    {
     "name": "stdout",
     "output_type": "stream",
     "text": [
      "25038.513438627906 {'alpha': 100, 'l1_ratio': 1.0}\n"
     ]
    }
   ],
   "source": [
    "print_scores(grid_search)"
   ]
  },
  {
   "cell_type": "code",
   "execution_count": 104,
   "metadata": {},
   "outputs": [
    {
     "name": "stdout",
     "output_type": "stream",
     "text": [
      "The best parameters for ElasticNet model are:\n",
      "{'alpha': 100, 'l1_ratio': 1.0}\n",
      "\n",
      "The RMSE for model is: 0.13824\n",
      "The overall improvement with tuned hyper parameters is 39.65%\n"
     ]
    }
   ],
   "source": [
    "validate_model('ElasticNet', grid_search)"
   ]
  },
  {
   "cell_type": "markdown",
   "metadata": {},
   "source": [
    "## SGDRegressor optimization - no regularization"
   ]
  },
  {
   "cell_type": "code",
   "execution_count": 46,
   "metadata": {},
   "outputs": [
    {
     "name": "stdout",
     "output_type": "stream",
     "text": [
      "Fitting 3 folds for each of 320 candidates, totalling 960 fits\n"
     ]
    },
    {
     "name": "stderr",
     "output_type": "stream",
     "text": [
      "[Parallel(n_jobs=2)]: Using backend LokyBackend with 2 concurrent workers.\n",
      "[Parallel(n_jobs=2)]: Done 508 tasks      | elapsed:    3.7s\n"
     ]
    },
    {
     "name": "stdout",
     "output_type": "stream",
     "text": [
      "Wall time: 7.16 s\n"
     ]
    },
    {
     "name": "stderr",
     "output_type": "stream",
     "text": [
      "[Parallel(n_jobs=2)]: Done 960 out of 960 | elapsed:    7.0s finished\n",
      "C:\\Users\\Rob\\Anaconda3\\envs\\tf_gpu\\lib\\site-packages\\sklearn\\model_selection\\_search.py:841: DeprecationWarning: The default of the `iid` parameter will change from True to False in version 0.22 and will be removed in 0.24. This will change numeric results when test-set sizes are unequal.\n",
      "  DeprecationWarning)\n"
     ]
    }
   ],
   "source": [
    "%%time\n",
    "#Hyper parameters optimization - SGDRegressor\n",
    "param_grid = {\n",
    "    'eta0': np.linspace(0.001, 0.1, num=20),\n",
    "    'loss': ['squared_loss', 'huber', 'epsilon_insensitive', 'squared_epsilon_insensitive'],\n",
    "    'max_iter': [50],\n",
    "    'learning_rate': ['constant', 'optimal', 'invscaling', 'adaptive'],\n",
    "    'power_t':[0.5],\n",
    "    'penalty': ['none']\n",
    "}\n",
    "\n",
    "grid_search = GridSearchCV(SGDRegressor(random_state=42), param_grid, verbose=1, cv=3,scoring='neg_mean_squared_error', n_jobs=2)\n",
    "grid_search.fit(train_X, train_y)"
   ]
  },
  {
   "cell_type": "code",
   "execution_count": 50,
   "metadata": {},
   "outputs": [
    {
     "name": "stdout",
     "output_type": "stream",
     "text": [
      "27581.346292320493 {'eta0': 0.001, 'learning_rate': 'constant', 'loss': 'squared_loss', 'max_iter': 50, 'penalty': 'none', 'power_t': 0.5}\n",
      "27023.755983272356 {'eta0': 0.001, 'learning_rate': 'constant', 'loss': 'squared_epsilon_insensitive', 'max_iter': 50, 'penalty': 'none', 'power_t': 0.5}\n",
      "27581.346292320493 {'eta0': 0.001, 'learning_rate': 'adaptive', 'loss': 'squared_loss', 'max_iter': 50, 'penalty': 'none', 'power_t': 0.5}\n",
      "27023.755983272356 {'eta0': 0.001, 'learning_rate': 'adaptive', 'loss': 'squared_epsilon_insensitive', 'max_iter': 50, 'penalty': 'none', 'power_t': 0.5}\n",
      "27646.574567675216 {'eta0': 0.006210526315789474, 'learning_rate': 'constant', 'loss': 'squared_loss', 'max_iter': 50, 'penalty': 'none', 'power_t': 0.5}\n",
      "27646.574567675216 {'eta0': 0.006210526315789474, 'learning_rate': 'adaptive', 'loss': 'squared_loss', 'max_iter': 50, 'penalty': 'none', 'power_t': 0.5}\n"
     ]
    }
   ],
   "source": [
    "print_scores(grid_search, display_threshold=28000)"
   ]
  },
  {
   "cell_type": "code",
   "execution_count": 51,
   "metadata": {},
   "outputs": [
    {
     "name": "stdout",
     "output_type": "stream",
     "text": [
      "The best parameters for SGDRegressor model are:\n",
      "{'eta0': 0.001, 'learning_rate': 'constant', 'loss': 'squared_epsilon_insensitive', 'max_iter': 50, 'penalty': 'none', 'power_t': 0.5}\n",
      "\n",
      "The RMSE for model is: 0.14529\n",
      "The overall improvement with tuned hyper parameters is 12.07%\n"
     ]
    }
   ],
   "source": [
    "validate_model('SGDRegressor', grid_search)"
   ]
  },
  {
   "cell_type": "markdown",
   "metadata": {},
   "source": [
    "## SGDRegressor Optimization - with regularization\n",
    "commented out because it runs 72000 fits with no performance increase."
   ]
  },
  {
   "cell_type": "code",
   "execution_count": 52,
   "metadata": {},
   "outputs": [],
   "source": [
    "# %%time\n",
    "# #Hyper parameters optimization - SGDRegressor\n",
    "# param_grid = [\n",
    "#     {'eta0': np.linspace(0.001, 0.1, num=20),\n",
    "#     'loss': ['squared_loss', 'huber', 'epsilon_insensitive', 'squared_epsilon_insensitive'],\n",
    "#     'max_iter': [50],\n",
    "#     'learning_rate': ['constant', 'optimal', 'invscaling', 'adaptive'],\n",
    "#     'power_t':[0.5],\n",
    "#     'penalty': ['l2','l1','elasticnet'],\n",
    "#     'l1_ratio': np.linspace(0, 1, num=5),\n",
    "#     'alpha': np.linspace(0.0001, 0.1, num=5),\n",
    "#     }\n",
    "# ]\n",
    "\n",
    "# grid_search = GridSearchCV(SGDRegressor(random_state=42), param_grid, verbose=1, cv=3,scoring='neg_mean_squared_error', n_jobs=2)\n",
    "# grid_search.fit(train_X, train_y)"
   ]
  },
  {
   "cell_type": "code",
   "execution_count": 53,
   "metadata": {},
   "outputs": [],
   "source": [
    "# print_scores(grid_search)"
   ]
  },
  {
   "cell_type": "code",
   "execution_count": 54,
   "metadata": {},
   "outputs": [],
   "source": [
    "# validate_model('SGDRegressor', grid_search)"
   ]
  },
  {
   "cell_type": "markdown",
   "metadata": {},
   "source": [
    "## KNeighborsRegressor optimization"
   ]
  },
  {
   "cell_type": "code",
   "execution_count": 55,
   "metadata": {},
   "outputs": [
    {
     "name": "stdout",
     "output_type": "stream",
     "text": [
      "Fitting 3 folds for each of 20 candidates, totalling 60 fits\n"
     ]
    },
    {
     "name": "stderr",
     "output_type": "stream",
     "text": [
      "[Parallel(n_jobs=2)]: Using backend LokyBackend with 2 concurrent workers.\n",
      "[Parallel(n_jobs=2)]: Done  46 tasks      | elapsed:    5.6s\n"
     ]
    },
    {
     "name": "stdout",
     "output_type": "stream",
     "text": [
      "Wall time: 7.47 s\n"
     ]
    },
    {
     "name": "stderr",
     "output_type": "stream",
     "text": [
      "[Parallel(n_jobs=2)]: Done  60 out of  60 | elapsed:    7.4s finished\n"
     ]
    }
   ],
   "source": [
    "%%time\n",
    "#Hyper parameters optimization - KNeighbors Regressor\n",
    "param_grid = {\n",
    "    'n_neighbors': np.arange(3,8),\n",
    "    'weights': ['uniform', 'distance'],\n",
    "    'algorithm': ['auto'],\n",
    "    'p': [1, 2]\n",
    "}\n",
    "\n",
    "grid_search = GridSearchCV(KNeighborsRegressor(), param_grid, verbose=1, cv=3,scoring='neg_mean_squared_error', n_jobs=2)\n",
    "grid_search.fit(train_X, train_y)"
   ]
  },
  {
   "cell_type": "code",
   "execution_count": 56,
   "metadata": {},
   "outputs": [],
   "source": [
    "print_scores(grid_search)"
   ]
  },
  {
   "cell_type": "code",
   "execution_count": 57,
   "metadata": {},
   "outputs": [
    {
     "name": "stdout",
     "output_type": "stream",
     "text": [
      "The best parameters for KNeighbors Regressor model are:\n",
      "{'algorithm': 'auto', 'n_neighbors': 7, 'p': 1, 'weights': 'distance'}\n",
      "\n",
      "The RMSE for model is: 0.20128\n",
      "The overall improvement with tuned hyper parameters is 6.96%\n"
     ]
    }
   ],
   "source": [
    "validate_model('KNeighbors Regressor', grid_search)"
   ]
  },
  {
   "cell_type": "markdown",
   "metadata": {},
   "source": [
    "## Decision Tree Regressor optimization"
   ]
  },
  {
   "cell_type": "code",
   "execution_count": 58,
   "metadata": {},
   "outputs": [],
   "source": [
    "# Print the most important features\n",
    "def most_important_features(model, rgr_name, numResults=288, sort=True):\n",
    "    important_features = []\n",
    "    df = pd.DataFrame(df_prep.toarray()) \n",
    "    for name, score in zip(df.columns, model.feature_importances_):\n",
    "        important_features.append((name, score))\n",
    "\n",
    "    if sort:\n",
    "        important_features.sort(key=lambda tup: tup[1], reverse=True)\n",
    "\n",
    "    print('Top 10 features according to {}.\\n'.format(rgr_name))\n",
    "    print('Column # represents the column location in df_prep (with one_hot_encoding):\\n')\n",
    "    print('{:>12}{:>7}\\n'.format('Column #', 'Score'))\n",
    "\n",
    "    for name, score in important_features[0:numResults]:\n",
    "        print('{:>12}: {:>8}'.format(name, score))"
   ]
  },
  {
   "cell_type": "code",
   "execution_count": 59,
   "metadata": {},
   "outputs": [
    {
     "name": "stdout",
     "output_type": "stream",
     "text": [
      "Fitting 3 folds for each of 240 candidates, totalling 720 fits\n"
     ]
    },
    {
     "name": "stderr",
     "output_type": "stream",
     "text": [
      "[Parallel(n_jobs=2)]: Using backend LokyBackend with 2 concurrent workers.\n"
     ]
    },
    {
     "name": "stdout",
     "output_type": "stream",
     "text": [
      "Wall time: 14.6 s\n"
     ]
    },
    {
     "name": "stderr",
     "output_type": "stream",
     "text": [
      "[Parallel(n_jobs=2)]: Done 720 out of 720 | elapsed:   14.4s finished\n",
      "C:\\Users\\Rob\\Anaconda3\\envs\\tf_gpu\\lib\\site-packages\\sklearn\\model_selection\\_search.py:841: DeprecationWarning: The default of the `iid` parameter will change from True to False in version 0.22 and will be removed in 0.24. This will change numeric results when test-set sizes are unequal.\n",
      "  DeprecationWarning)\n"
     ]
    }
   ],
   "source": [
    "%%time\n",
    "#Hyper parameters optimization - Decision Tree Regressor\n",
    "param_grid = {\n",
    "    'max_depth': np.append(np.arange(1,30+1,2), None),\n",
    "    'min_samples_split': np.arange(2,30+1,2),\n",
    "    'min_samples_leaf': [2],\n",
    "    'max_features': ['auto'],\n",
    "    #'max_leaf_nodes': np.append(np.arange(2,25), None),\n",
    "    'max_leaf_nodes': [None], # none is the best every time\n",
    "}\n",
    "\n",
    "grid_search = GridSearchCV(DecisionTreeRegressor(random_state=42), param_grid, verbose=1, cv=3,scoring='neg_mean_squared_error', n_jobs=2)\n",
    "grid_search.fit(train_X, train_y)"
   ]
  },
  {
   "cell_type": "code",
   "execution_count": 60,
   "metadata": {},
   "outputs": [],
   "source": [
    "print_scores(grid_search, display_threshold=38416)"
   ]
  },
  {
   "cell_type": "code",
   "execution_count": 61,
   "metadata": {
    "scrolled": true
   },
   "outputs": [
    {
     "name": "stdout",
     "output_type": "stream",
     "text": [
      "The best parameters for Decision Tree Regressor model are:\n",
      "{'max_depth': 9, 'max_features': 'auto', 'max_leaf_nodes': None, 'min_samples_leaf': 2, 'min_samples_split': 18}\n",
      "\n",
      "The RMSE for model is: 0.19671\n",
      "The overall improvement with tuned hyper parameters is 6.04%\n"
     ]
    }
   ],
   "source": [
    "validate_model('Decision Tree Regressor', grid_search)"
   ]
  },
  {
   "cell_type": "code",
   "execution_count": 62,
   "metadata": {},
   "outputs": [
    {
     "name": "stdout",
     "output_type": "stream",
     "text": [
      "Top 10 features according to Decision Tree Regressor.\n",
      "\n",
      "Column # represents the column location in df_prep (with one_hot_encoding):\n",
      "\n",
      "    Column #  Score\n",
      "\n",
      "           3: 0.604596065987653\n",
      "          15: 0.1244743808398337\n",
      "          11: 0.10841636759937566\n",
      "          22: 0.03323722112412952\n",
      "           8: 0.02160527773683868\n"
     ]
    }
   ],
   "source": [
    "# Print the most important features according to decision tree analysis\n",
    "most_important_features(final_models['Decision Tree Regressor'], 'Decision Tree Regressor', numResults=5, sort=True)"
   ]
  },
  {
   "cell_type": "markdown",
   "metadata": {},
   "source": [
    "## Random Forest Regressor optimization"
   ]
  },
  {
   "cell_type": "markdown",
   "metadata": {},
   "source": [
    "### RandomSearchCV"
   ]
  },
  {
   "cell_type": "code",
   "execution_count": 63,
   "metadata": {},
   "outputs": [],
   "source": [
    "# %%time\n",
    "# # Hyperparameters optimization - Random Forest Regressor\n",
    "# # Use RandomSearchCV\n",
    "# # 38min 58s run time with the following params:\n",
    "\n",
    "# param_dist = {\n",
    "#      'n_estimators': np.arange(1500,2000+1),\n",
    "#      'max_depth': np.arange(15,25+1),\n",
    "#      'max_features': np.arange(20,100+1),\n",
    "#      'min_samples_split': np.arange(5, 7+1), \n",
    "#      'min_samples_leaf': [2], \n",
    "# }\n",
    "\n",
    "# rand_search = RandomizedSearchCV(RandomForestRegressor(random_state=42), param_distributions=param_dist, scoring='neg_mean_squared_error', \n",
    "#                                     n_iter=100, cv=3, verbose=1, random_state=42, n_jobs=2)\n",
    "# rand_search.fit(train_X, train_y)"
   ]
  },
  {
   "cell_type": "code",
   "execution_count": 64,
   "metadata": {},
   "outputs": [],
   "source": [
    "# print_scores(rand_search)"
   ]
  },
  {
   "cell_type": "code",
   "execution_count": 65,
   "metadata": {},
   "outputs": [],
   "source": [
    "# validate_model('Random Forest Regressor', rand_search)\n",
    "\n",
    "# # --- results ----\n",
    "# # The best parameters for Random Forest Regressor model are:\n",
    "# # {'n_estimators': 1762, 'min_samples_split': 6, 'min_samples_leaf': 2, 'max_features': 100, 'max_depth': 18}\n",
    "\n",
    "# # The RMSE for Random Forest Regressor model is: 29175.04\n",
    "# # The overall improvement with tuned hyper parameters is 12.10%\n",
    "\n",
    "# # Labeled data mean = 178840, rmse/mean = 16.31%"
   ]
  },
  {
   "cell_type": "markdown",
   "metadata": {},
   "source": [
    "### GridSearchCV"
   ]
  },
  {
   "cell_type": "code",
   "execution_count": 109,
   "metadata": {},
   "outputs": [
    {
     "name": "stdout",
     "output_type": "stream",
     "text": [
      "Fitting 3 folds for each of 9 candidates, totalling 27 fits\n"
     ]
    },
    {
     "name": "stderr",
     "output_type": "stream",
     "text": [
      "[Parallel(n_jobs=2)]: Using backend LokyBackend with 2 concurrent workers.\n",
      "[Parallel(n_jobs=2)]: Done  27 out of  27 | elapsed:  7.6min finished\n",
      "C:\\Users\\Rob\\Anaconda3\\envs\\tf_gpu\\lib\\site-packages\\sklearn\\model_selection\\_search.py:841: DeprecationWarning: The default of the `iid` parameter will change from True to False in version 0.22 and will be removed in 0.24. This will change numeric results when test-set sizes are unequal.\n",
      "  DeprecationWarning)\n"
     ]
    },
    {
     "name": "stdout",
     "output_type": "stream",
     "text": [
      "Wall time: 8min 12s\n"
     ]
    }
   ],
   "source": [
    "%%time\n",
    "#Hyper parameters optimization - Random Forest Regressor\n",
    "param_grid = {\n",
    "    'n_estimators': [1000],\n",
    "    'max_depth': [16],\n",
    "    'max_features': [125],\n",
    "    'min_samples_split': [2], \n",
    "    'min_samples_leaf': [2], \n",
    "    # 'max_leaf_nodes': np.arange(2, 100+1, 10) # does not help rmse_val\n",
    "}\n",
    "\n",
    "grid_search = GridSearchCV(RandomForestRegressor(random_state=42), param_grid, \n",
    "                           verbose=1, cv=3,scoring='neg_mean_squared_error', n_jobs=2)\n",
    "grid_search.fit(train_X, train_y)"
   ]
  },
  {
   "cell_type": "code",
   "execution_count": 110,
   "metadata": {},
   "outputs": [
    {
     "name": "stdout",
     "output_type": "stream",
     "text": [
      "27430.12420759211 {'max_depth': 16, 'max_features': 125, 'min_samples_leaf': 2, 'min_samples_split': 2, 'n_estimators': 1000}\n",
      "27473.47480773836 {'max_depth': 16, 'max_features': 125, 'min_samples_leaf': 2, 'min_samples_split': 2, 'n_estimators': 1500}\n",
      "27509.564033319126 {'max_depth': 16, 'max_features': 125, 'min_samples_leaf': 2, 'min_samples_split': 2, 'n_estimators': 2000}\n",
      "27543.516021468648 {'max_depth': 16, 'max_features': 150, 'min_samples_leaf': 2, 'min_samples_split': 2, 'n_estimators': 1000}\n",
      "27520.461609351194 {'max_depth': 16, 'max_features': 150, 'min_samples_leaf': 2, 'min_samples_split': 2, 'n_estimators': 1500}\n",
      "27554.794992876377 {'max_depth': 16, 'max_features': 150, 'min_samples_leaf': 2, 'min_samples_split': 2, 'n_estimators': 2000}\n",
      "27792.23714049188 {'max_depth': 16, 'max_features': 200, 'min_samples_leaf': 2, 'min_samples_split': 2, 'n_estimators': 1000}\n",
      "27851.834241039174 {'max_depth': 16, 'max_features': 200, 'min_samples_leaf': 2, 'min_samples_split': 2, 'n_estimators': 1500}\n",
      "27855.70189488714 {'max_depth': 16, 'max_features': 200, 'min_samples_leaf': 2, 'min_samples_split': 2, 'n_estimators': 2000}\n"
     ]
    }
   ],
   "source": [
    "print_scores(grid_search)"
   ]
  },
  {
   "cell_type": "code",
   "execution_count": 111,
   "metadata": {},
   "outputs": [
    {
     "name": "stdout",
     "output_type": "stream",
     "text": [
      "The best parameters for Random Forest Regressor model are:\n",
      "{'max_depth': 16, 'max_features': 125, 'min_samples_leaf': 2, 'min_samples_split': 2, 'n_estimators': 1000}\n",
      "\n",
      "The RMSE for model is: 0.14660\n",
      "The overall improvement with tuned hyper parameters is 3.98%\n"
     ]
    }
   ],
   "source": [
    "validate_model('Random Forest Regressor', grid_search)"
   ]
  },
  {
   "cell_type": "code",
   "execution_count": 112,
   "metadata": {
    "scrolled": true
   },
   "outputs": [
    {
     "name": "stdout",
     "output_type": "stream",
     "text": [
      "Top 10 features according to Random Forest Regressor.\n",
      "\n",
      "Column # represents the column location in df_prep (with one_hot_encoding):\n",
      "\n",
      "    Column #  Score\n",
      "\n",
      "           3: 0.282431044078157\n",
      "          15: 0.12388375912788867\n",
      "          25: 0.07771706686247805\n",
      "          39: 0.06039431145324177\n",
      "          11: 0.05384618813912052\n"
     ]
    }
   ],
   "source": [
    "most_important_features(final_models['Random Forest Regressor'], 'Random Forest Regressor', numResults=5, sort=True)"
   ]
  },
  {
   "cell_type": "markdown",
   "metadata": {},
   "source": [
    "# Aggregate learning methods"
   ]
  },
  {
   "cell_type": "markdown",
   "metadata": {},
   "source": [
    "## BaggingRegressor"
   ]
  },
  {
   "cell_type": "code",
   "execution_count": 71,
   "metadata": {},
   "outputs": [
    {
     "name": "stdout",
     "output_type": "stream",
     "text": [
      "Fitting 3 folds for each of 1 candidates, totalling 3 fits\n"
     ]
    },
    {
     "name": "stderr",
     "output_type": "stream",
     "text": [
      "[Parallel(n_jobs=2)]: Using backend LokyBackend with 2 concurrent workers.\n",
      "[Parallel(n_jobs=2)]: Done   3 out of   3 | elapsed:    3.3s finished\n"
     ]
    },
    {
     "name": "stdout",
     "output_type": "stream",
     "text": [
      "Wall time: 4.44 s\n"
     ]
    }
   ],
   "source": [
    "%%time\n",
    "#Hyper parameters optimization - BaggingRegressor\n",
    "from sklearn.ensemble import BaggingRegressor\n",
    "\n",
    "param_grid = {\n",
    "    'max_samples': [1.0],\n",
    "    'max_features': [1.0],\n",
    "    'n_estimators': [7],\n",
    "    'bootstrap': [True],\n",
    "#     'base_estimator': [final_models['Lasso'], final_models['Linear Regression'], final_models['ElasticNet'],\n",
    "#                       final_models['SVR'], final_models['Ridge'], final_models['SGDRegressor'], LinearRegression(),\n",
    "#                       Lasso(random_state=42)],\n",
    "    'base_estimator': [final_models['SVR']]\n",
    "}\n",
    "\n",
    "bag_rgr = BaggingRegressor(n_jobs=2, random_state=42)\n",
    "\n",
    "grid_search = GridSearchCV(estimator=bag_rgr, param_grid=param_grid, verbose=1, \n",
    "                           cv=3,scoring='neg_mean_squared_error', n_jobs=2)\n",
    "grid_search.fit(train_X, train_y)"
   ]
  },
  {
   "cell_type": "code",
   "execution_count": 72,
   "metadata": {},
   "outputs": [],
   "source": [
    "print_scores(grid_search, display_threshold=33200)"
   ]
  },
  {
   "cell_type": "code",
   "execution_count": 73,
   "metadata": {},
   "outputs": [
    {
     "name": "stdout",
     "output_type": "stream",
     "text": [
      "The best parameters for BaggingRegressor model are:\n",
      "{'base_estimator': SVR(C=113564, cache_size=200, coef0=0.0, degree=3, epsilon=0.1,\n",
      "  gamma=0.0007790692366582295, kernel='rbf', max_iter=-1, shrinking=True,\n",
      "  tol=0.001, verbose=False), 'bootstrap': True, 'max_features': 1.0, 'max_samples': 1.0, 'n_estimators': 7}\n",
      "\n",
      "The RMSE for model is: 0.19855\n"
     ]
    }
   ],
   "source": [
    "validate_model('BaggingRegressor', grid_search)"
   ]
  },
  {
   "cell_type": "markdown",
   "metadata": {},
   "source": [
    "## GradientBoostingRegressor"
   ]
  },
  {
   "cell_type": "code",
   "execution_count": 74,
   "metadata": {},
   "outputs": [
    {
     "name": "stdout",
     "output_type": "stream",
     "text": [
      "Fitting 3 folds for each of 1 candidates, totalling 3 fits\n"
     ]
    },
    {
     "name": "stderr",
     "output_type": "stream",
     "text": [
      "[Parallel(n_jobs=2)]: Using backend LokyBackend with 2 concurrent workers.\n",
      "[Parallel(n_jobs=2)]: Done   3 out of   3 | elapsed:    6.5s finished\n",
      "C:\\Users\\Rob\\Anaconda3\\envs\\tf_gpu\\lib\\site-packages\\sklearn\\model_selection\\_search.py:841: DeprecationWarning: The default of the `iid` parameter will change from True to False in version 0.22 and will be removed in 0.24. This will change numeric results when test-set sizes are unequal.\n",
      "  DeprecationWarning)\n"
     ]
    },
    {
     "name": "stdout",
     "output_type": "stream",
     "text": [
      "Wall time: 11.1 s\n"
     ]
    }
   ],
   "source": [
    "%%time\n",
    "#Hyper parameters optimization - GradientBoostingRegressor\n",
    "from sklearn.ensemble import GradientBoostingRegressor\n",
    "\n",
    "param_grid = {\n",
    "    #'loss': ['ls', 'lad', 'huber', 'quantile'],\n",
    "    'learning_rate': [0.1],\n",
    "    'n_estimators': [300],\n",
    "    'subsample': [0.90], # less than 1.0 leads to lower variance and higher bias\n",
    "    'min_samples_split': [50],\n",
    "    'min_samples_leaf': [2],\n",
    "    'max_depth': [6],\n",
    "    'max_features': ['auto'],\n",
    "    'max_leaf_nodes': [10],    \n",
    "    'warm_start': [True]\n",
    "}\n",
    "\n",
    "gb_rgr = GradientBoostingRegressor(random_state=42)\n",
    "\n",
    "grid_search = GridSearchCV(estimator=gb_rgr, param_grid=param_grid, verbose=1, \n",
    "                           cv=3,scoring='neg_mean_squared_error', n_jobs=2)\n",
    "grid_search.fit(train_X, train_y)"
   ]
  },
  {
   "cell_type": "code",
   "execution_count": 75,
   "metadata": {},
   "outputs": [
    {
     "name": "stdout",
     "output_type": "stream",
     "text": [
      "24222.02467277612 {'learning_rate': 0.1, 'max_depth': 6, 'max_features': 'auto', 'max_leaf_nodes': 10, 'min_samples_leaf': 2, 'min_samples_split': 50, 'n_estimators': 300, 'subsample': 0.9, 'warm_start': True}\n"
     ]
    }
   ],
   "source": [
    "print_scores(grid_search, display_threshold=26000)"
   ]
  },
  {
   "cell_type": "code",
   "execution_count": 76,
   "metadata": {
    "scrolled": true
   },
   "outputs": [
    {
     "name": "stdout",
     "output_type": "stream",
     "text": [
      "The best parameters for GradientBoostingRegressor model are:\n",
      "{'learning_rate': 0.1, 'max_depth': 6, 'max_features': 'auto', 'max_leaf_nodes': 10, 'min_samples_leaf': 2, 'min_samples_split': 50, 'n_estimators': 300, 'subsample': 0.9, 'warm_start': True}\n",
      "\n",
      "The RMSE for model is: 0.11468\n"
     ]
    }
   ],
   "source": [
    "validate_model('GradientBoostingRegressor', grid_search)"
   ]
  },
  {
   "cell_type": "markdown",
   "metadata": {},
   "source": [
    "## Stacking"
   ]
  },
  {
   "cell_type": "code",
   "execution_count": null,
   "metadata": {},
   "outputs": [],
   "source": []
  },
  {
   "cell_type": "markdown",
   "metadata": {},
   "source": [
    "# Neural Network"
   ]
  },
  {
   "cell_type": "markdown",
   "metadata": {},
   "source": [
    "Simple Neural Network with TensorBoard support"
   ]
  },
  {
   "cell_type": "code",
   "execution_count": null,
   "metadata": {},
   "outputs": [],
   "source": [
    "tbCallBack = TensorBoard(log_dir='./uoft_ai_class_1/Graph', histogram_freq=0,  \n",
    "          write_graph=True, write_images=True)"
   ]
  },
  {
   "cell_type": "code",
   "execution_count": null,
   "metadata": {},
   "outputs": [],
   "source": [
    "def train_model(neurons):\n",
    "    print(\"neurons used\", neurons)\n",
    "    model = Sequential()\n",
    "\n",
    "    model.add(Dense(neurons[0], activation='relu', input_dim=287))\n",
    "    model.add(BatchNormalization())\n",
    "    model.add(Dropout(0.5))\n",
    "\n",
    "    model.add(Dense(neurons[1], activation='relu'))\n",
    "    model.add(BatchNormalization())\n",
    "    model.add(Dropout(0.5))\n",
    "\n",
    "    model.add(Dense(1))\n",
    "\n",
    "    optimizer = tf.train.RMSPropOptimizer(0.01)\n",
    "    model.compile (loss = 'mse', optimizer = optimizer)\n",
    "\n",
    "    hist = model.fit(train_X, train_y, epochs=1000, batch_size=32, validation_data = (val_X, val_y), callbacks=[tbCallBack])\n",
    "\n",
    "    return hist\n",
    "\n",
    "a = [8,16,32,64]\n",
    "perms = set(permutations(a, 2))\n",
    "\n",
    "for p in perms:\n",
    "    res = train_model(p)\n",
    "    history[p] = np.average([res.history['val_loss'][-1], res.history['val_loss'][-2]])\n"
   ]
  },
  {
   "cell_type": "code",
   "execution_count": null,
   "metadata": {},
   "outputs": [],
   "source": [
    "history\n",
    "\n",
    "# the key is the number of neurons in the first and second layer\n",
    "# the value is the average validation loss of the last two epochs\n",
    "# we should use the smallest network with 8 and 16 neurons in the two layers"
   ]
  },
  {
   "cell_type": "code",
   "execution_count": null,
   "metadata": {},
   "outputs": [],
   "source": [
    "with open('final_proj_res_2.csv', 'w') as f:\n",
    "    for k in history.keys():\n",
    "        f.write(str(k))\n",
    "        f.write(',')\n",
    "        f.write(str(history[k]))\n",
    "        f.write('\\n')"
   ]
  },
  {
   "cell_type": "code",
   "execution_count": null,
   "metadata": {},
   "outputs": [],
   "source": [
    "#Prediction output\n",
    "best_model=Lasso(alpha=100, copy_X=True, fit_intercept=True, normalize= False,random_state=42)\n",
    "best_model.fit(df_prep, sale_price)"
   ]
  },
  {
   "cell_type": "code",
   "execution_count": null,
   "metadata": {},
   "outputs": [],
   "source": [
    "X_test_prep = full_pipeline.fit_transform(df_test) # BK: the transformation gives an error: \n",
    "                                                    #     could not convert string to float: 'RH'. \n",
    "                                                    # I can't understand a root cause so far. the test dataset is similar to \n",
    "                                                    # train one\n",
    "final_pred = best_model.predict(X_test_prep)"
   ]
  },
  {
   "cell_type": "code",
   "execution_count": null,
   "metadata": {},
   "outputs": [],
   "source": [
    "result=pd.DataFrame({'Id':df_test['Id'], 'SalePrice':final_pred},columns=['Id','SalePrice'])\n",
    "result.to_csv('prediction_result.csv', index=False)"
   ]
  },
  {
   "cell_type": "code",
   "execution_count": null,
   "metadata": {},
   "outputs": [],
   "source": []
  }
 ],
 "metadata": {
  "kernelspec": {
   "display_name": "tensorflow_gpu",
   "language": "python",
   "name": "tf_gpu"
  },
  "language_info": {
   "codemirror_mode": {
    "name": "ipython",
    "version": 3
   },
   "file_extension": ".py",
   "mimetype": "text/x-python",
   "name": "python",
   "nbconvert_exporter": "python",
   "pygments_lexer": "ipython3",
   "version": "3.6.7"
  }
 },
 "nbformat": 4,
 "nbformat_minor": 2
}
